{
 "cells": [
  {
   "cell_type": "code",
   "execution_count": null,
   "metadata": {},
   "outputs": [],
   "source": [
    "from PIL import Image\n",
    "\n",
    "gif = Image.open(\"random_walk_4D_1000.gif\")\n",
    "\n",
    "frames = []\n",
    "while True:\n",
    "    try:\n",
    "        frames.append(gif.copy())\n",
    "        gif.seek(len(frames))  # Go to the next frame\n",
    "    except EOFError:\n",
    "        break\n",
    "\n",
    "mid = len(frames) // 2\n",
    "part1_frames = frames[:mid]\n",
    "part2_frames = frames[mid:]\n",
    "\n",
    "part1_frames[0].save(\"part1.gif\", save_all=True, append_images=part1_frames[1:])\n",
    "part2_frames[0].save(\"part2.gif\", save_all=True, append_images=part2_frames[1:])\n"
   ]
  }
 ],
 "metadata": {
  "kernelspec": {
   "display_name": "Python 3",
   "language": "python",
   "name": "python3"
  },
  "language_info": {
   "codemirror_mode": {
    "name": "ipython",
    "version": 3
   },
   "file_extension": ".py",
   "mimetype": "text/x-python",
   "name": "python",
   "nbconvert_exporter": "python",
   "pygments_lexer": "ipython3",
   "version": "3.10.11"
  }
 },
 "nbformat": 4,
 "nbformat_minor": 2
}
